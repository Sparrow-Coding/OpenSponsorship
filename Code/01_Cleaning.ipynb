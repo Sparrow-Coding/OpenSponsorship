{
 "cells": [
  {
   "cell_type": "markdown",
   "id": "cb078ef3-40e0-4c04-a642-37b376176754",
   "metadata": {},
   "source": [
    "# Imports"
   ]
  },
  {
   "cell_type": "code",
   "execution_count": 1,
   "id": "470b29ab-608d-4726-a09e-24759b5bcf8b",
   "metadata": {},
   "outputs": [],
   "source": [
    "# Imports\n",
    "import pandas as pd\n",
    "import numpy as np\n",
    "import seaborn as sns\n",
    "import matplotlib.pyplot as plt"
   ]
  },
  {
   "cell_type": "code",
   "execution_count": 2,
   "id": "48b209db-2847-4f70-927a-12a9f235a624",
   "metadata": {},
   "outputs": [
    {
     "data": {
      "text/html": [
       "<div>\n",
       "<style scoped>\n",
       "    .dataframe tbody tr th:only-of-type {\n",
       "        vertical-align: middle;\n",
       "    }\n",
       "\n",
       "    .dataframe tbody tr th {\n",
       "        vertical-align: top;\n",
       "    }\n",
       "\n",
       "    .dataframe thead th {\n",
       "        text-align: right;\n",
       "    }\n",
       "</style>\n",
       "<table border=\"1\" class=\"dataframe\">\n",
       "  <thead>\n",
       "    <tr style=\"text-align: right;\">\n",
       "      <th></th>\n",
       "      <th>brand_id</th>\n",
       "      <th>created</th>\n",
       "      <th>lastActive</th>\n",
       "      <th>planLevel</th>\n",
       "      <th>num_sub_user</th>\n",
       "      <th>role</th>\n",
       "      <th>industry_categories</th>\n",
       "      <th>bantScore</th>\n",
       "      <th>companySize</th>\n",
       "      <th>onboarding_stage</th>\n",
       "      <th>country</th>\n",
       "    </tr>\n",
       "  </thead>\n",
       "  <tbody>\n",
       "    <tr>\n",
       "      <th>0</th>\n",
       "      <td>1</td>\n",
       "      <td>2021-08-31 19:18:40</td>\n",
       "      <td>2021-08-31 19:20:38</td>\n",
       "      <td>0</td>\n",
       "      <td>1</td>\n",
       "      <td>brand</td>\n",
       "      <td>[]</td>\n",
       "      <td>NaN</td>\n",
       "      <td>NaN</td>\n",
       "      <td>NaN</td>\n",
       "      <td>NaN</td>\n",
       "    </tr>\n",
       "    <tr>\n",
       "      <th>1</th>\n",
       "      <td>2</td>\n",
       "      <td>2020-08-28 4:38:11</td>\n",
       "      <td>2021-01-07 21:10:32</td>\n",
       "      <td>0</td>\n",
       "      <td>1</td>\n",
       "      <td>brand</td>\n",
       "      <td>[]</td>\n",
       "      <td>NaN</td>\n",
       "      <td>NaN</td>\n",
       "      <td>4.0</td>\n",
       "      <td>United States</td>\n",
       "    </tr>\n",
       "    <tr>\n",
       "      <th>2</th>\n",
       "      <td>3</td>\n",
       "      <td>2020-08-21 13:55:13</td>\n",
       "      <td>2020-10-28 12:53:31</td>\n",
       "      <td>0</td>\n",
       "      <td>1</td>\n",
       "      <td>brand</td>\n",
       "      <td>[]</td>\n",
       "      <td>NaN</td>\n",
       "      <td>NaN</td>\n",
       "      <td>4.0</td>\n",
       "      <td>NaN</td>\n",
       "    </tr>\n",
       "    <tr>\n",
       "      <th>3</th>\n",
       "      <td>4</td>\n",
       "      <td>2021-07-01 16:46:16</td>\n",
       "      <td>2021-07-01 16:46:59</td>\n",
       "      <td>0</td>\n",
       "      <td>1</td>\n",
       "      <td>founder</td>\n",
       "      <td>[]</td>\n",
       "      <td>NaN</td>\n",
       "      <td>NaN</td>\n",
       "      <td>2.0</td>\n",
       "      <td>United States</td>\n",
       "    </tr>\n",
       "    <tr>\n",
       "      <th>4</th>\n",
       "      <td>5</td>\n",
       "      <td>2019-12-02 21:57:51</td>\n",
       "      <td>2019-12-20 17:35:41</td>\n",
       "      <td>0</td>\n",
       "      <td>1</td>\n",
       "      <td>brand</td>\n",
       "      <td>[]</td>\n",
       "      <td>NaN</td>\n",
       "      <td>NaN</td>\n",
       "      <td>4.0</td>\n",
       "      <td>India</td>\n",
       "    </tr>\n",
       "  </tbody>\n",
       "</table>\n",
       "</div>"
      ],
      "text/plain": [
       "   brand_id              created           lastActive  planLevel  \\\n",
       "0         1  2021-08-31 19:18:40  2021-08-31 19:20:38          0   \n",
       "1         2   2020-08-28 4:38:11  2021-01-07 21:10:32          0   \n",
       "2         3  2020-08-21 13:55:13  2020-10-28 12:53:31          0   \n",
       "3         4  2021-07-01 16:46:16  2021-07-01 16:46:59          0   \n",
       "4         5  2019-12-02 21:57:51  2019-12-20 17:35:41          0   \n",
       "\n",
       "   num_sub_user     role industry_categories  bantScore companySize  \\\n",
       "0             1    brand                  []        NaN         NaN   \n",
       "1             1    brand                  []        NaN         NaN   \n",
       "2             1    brand                  []        NaN         NaN   \n",
       "3             1  founder                  []        NaN         NaN   \n",
       "4             1    brand                  []        NaN         NaN   \n",
       "\n",
       "   onboarding_stage        country  \n",
       "0               NaN            NaN  \n",
       "1               4.0  United States  \n",
       "2               4.0            NaN  \n",
       "3               2.0  United States  \n",
       "4               4.0          India  "
      ]
     },
     "execution_count": 2,
     "metadata": {},
     "output_type": "execute_result"
    }
   ],
   "source": [
    "df = pd.read_csv(\"../Data/sample_brands - data.csv\")\n",
    "df.head()"
   ]
  },
  {
   "cell_type": "markdown",
   "id": "d1f9045c-9740-460d-84f4-b426e1c9908f",
   "metadata": {},
   "source": [
    "# Data Column Cleaning\n",
    "### - Dataset has 5839 rows and dropping empty rows would be harmful to the dataset\n",
    "### - onboarding has 12 when highest value is 4, row to drop, Also drop NaN values in this column\n",
    "### - Create a column to look at the duration from created to last active\n",
    "### - Column name cleaning"
   ]
  },
  {
   "cell_type": "code",
   "execution_count": 3,
   "id": "abde43bb-c5d9-404b-9465-46f57e1568dd",
   "metadata": {},
   "outputs": [
    {
     "data": {
      "text/plain": [
       "brand_id                  0\n",
       "created                   0\n",
       "lastActive                8\n",
       "planLevel                 0\n",
       "num_sub_user              0\n",
       "role                      6\n",
       "industry_categories      23\n",
       "bantScore              4544\n",
       "companySize            3433\n",
       "onboarding_stage        239\n",
       "country                1004\n",
       "dtype: int64"
      ]
     },
     "execution_count": 3,
     "metadata": {},
     "output_type": "execute_result"
    }
   ],
   "source": [
    "df.isna().sum()"
   ]
  },
  {
   "cell_type": "code",
   "execution_count": 4,
   "id": "d764291b-b1af-4684-9780-306a7d21b4ea",
   "metadata": {},
   "outputs": [
    {
     "name": "stdout",
     "output_type": "stream",
     "text": [
      "<class 'pandas.core.frame.DataFrame'>\n",
      "RangeIndex: 5839 entries, 0 to 5838\n",
      "Data columns (total 11 columns):\n",
      " #   Column               Non-Null Count  Dtype  \n",
      "---  ------               --------------  -----  \n",
      " 0   brand_id             5839 non-null   int64  \n",
      " 1   created              5839 non-null   object \n",
      " 2   lastActive           5831 non-null   object \n",
      " 3   planLevel            5839 non-null   int64  \n",
      " 4   num_sub_user         5839 non-null   int64  \n",
      " 5   role                 5833 non-null   object \n",
      " 6   industry_categories  5816 non-null   object \n",
      " 7   bantScore            1295 non-null   float64\n",
      " 8   companySize          2406 non-null   object \n",
      " 9   onboarding_stage     5600 non-null   float64\n",
      " 10  country              4835 non-null   object \n",
      "dtypes: float64(2), int64(3), object(6)\n",
      "memory usage: 501.9+ KB\n"
     ]
    }
   ],
   "source": [
    "df.info()"
   ]
  },
  {
   "cell_type": "code",
   "execution_count": 5,
   "id": "323ee3e9-8627-41b2-9476-ad7cfa2705e4",
   "metadata": {},
   "outputs": [],
   "source": [
    "# renaing the columns for easier reading\n",
    "df.rename(columns = {'lastActive':'last_active','planLevel':'plan_level','bantScore':'bant_score','companySize':'company_size'}, inplace = True)"
   ]
  },
  {
   "cell_type": "code",
   "execution_count": 6,
   "id": "616f1d85-eaa2-4776-a163-5d055e495720",
   "metadata": {},
   "outputs": [
    {
     "data": {
      "text/plain": [
       "1       8\n",
       "2      10\n",
       "9      18\n",
       "3      29\n",
       "0    5774\n",
       "Name: plan_level, dtype: int64"
      ]
     },
     "execution_count": 6,
     "metadata": {},
     "output_type": "execute_result"
    }
   ],
   "source": [
    "#integer, Subscription plan meaning: 0 - Free, 1 - Trial, 2 - Search, 3 - Campagin, 9 - Full-service Agency\n",
    "df.plan_level.value_counts(ascending=True)"
   ]
  },
  {
   "cell_type": "code",
   "execution_count": 7,
   "id": "ccfd8a26-b48f-4b05-83d5-c79ed155742d",
   "metadata": {},
   "outputs": [
    {
     "data": {
      "text/plain": [
       "1       8\n",
       "2      10\n",
       "9      18\n",
       "3      29\n",
       "0    5774\n",
       "Name: plan_level, dtype: int64"
      ]
     },
     "execution_count": 7,
     "metadata": {},
     "output_type": "execute_result"
    }
   ],
   "source": [
    "#integer, Subscription plan meaning: 0 - Free, 1 - Trial, 2 - Search, 3 - Campagin, 4 - Full-service Agency\n",
    "df.plan_level.value_counts(ascending=True)"
   ]
  },
  {
   "cell_type": "code",
   "execution_count": 8,
   "id": "0a6e98a5-681b-4e99-9d51-449b07ca9d8f",
   "metadata": {},
   "outputs": [
    {
     "data": {
      "text/plain": [
       "12       1\n",
       "14       1\n",
       "7        1\n",
       "8        2\n",
       "9        2\n",
       "6        3\n",
       "5        9\n",
       "4       17\n",
       "3       56\n",
       "2       95\n",
       "1     5652\n",
       "Name: num_sub_user, dtype: int64"
      ]
     },
     "execution_count": 8,
     "metadata": {},
     "output_type": "execute_result"
    }
   ],
   "source": [
    "#integer, A brand account can have multiple user accesses. It is the number of sub-users of each brand account. \n",
    "df.num_sub_user.value_counts(ascending=True)"
   ]
  },
  {
   "cell_type": "code",
   "execution_count": 9,
   "id": "eca11236-2608-4af5-aa1e-7d9a760ee6e8",
   "metadata": {},
   "outputs": [],
   "source": [
    "# replacing values for more readability\n",
    "df['industry_categories'] = df['industry_categories'].replace({ '[]':'Unknown'})"
   ]
  },
  {
   "cell_type": "code",
   "execution_count": 10,
   "id": "b95979da-6f7e-4ade-8382-23d7f0873c04",
   "metadata": {},
   "outputs": [
    {
     "data": {
      "text/plain": [
       "Trying to be a entrepreneur       1\n",
       "Professional Real estate          1\n",
       "Therapist                         1\n",
       "Disc golf am50                    1\n",
       "Apparel brand partner             1\n",
       "                               ... \n",
       "management                      202\n",
       "marketing                       350\n",
       "entrepreneur                    814\n",
       "founder                         977\n",
       "brand                          3137\n",
       "Name: role, Length: 98, dtype: int64"
      ]
     },
     "execution_count": 10,
     "metadata": {},
     "output_type": "execute_result"
    }
   ],
   "source": [
    "#object, The role of the person who sign up on the platform. Autofilled with 'brand' if left blank.\n",
    "df.role.value_counts(ascending=True)"
   ]
  },
  {
   "cell_type": "code",
   "execution_count": 11,
   "id": "db1b9dd6-441a-4133-8e77-f5e2ee2d1a5c",
   "metadata": {},
   "outputs": [
    {
     "data": {
      "text/plain": [
       "['Marketing', 'Advertising', 'Personal Care', 'Perfumes', 'Cosmetics', 'Colognes']                                                                                                                                                                                                       1\n",
       "['Apparel & Jewelry', 'Shorts', 'Shirts & Tops', 'Hats', 'Charms & Pendants', 'Underwear & Socks', 'Sleepwear & Loungewear', 'Wristbands']                                                                                                                                               1\n",
       "['Apparel & Jewelry', 'Hats', 'Masks', 'Shorts', 'Swimwear', 'Wallets & Money Clips', 'Watches', 'Personal Care', 'Shaving', 'Skin Care', 'Outdoors', 'Hiking Gear', 'Camping Gear', 'Automobiles', 'Automotive Customization', 'Retailing', 'Internet & Direct Marketing Retail']       1\n",
       "['Health & Medical', 'Personal Care', 'Food & Beverage', 'Agricultural Products', 'Skin Care', 'Sports Health', 'Fitness & Performance']                                                                                                                                                 1\n",
       "['Insurance', 'Life & Health Insurance']                                                                                                                                                                                                                                                 1\n",
       "                                                                                                                                                                                                                                                                                      ... \n",
       "['Health & Medical']                                                                                                                                                                                                                                                                    51\n",
       "['Food & Beverage']                                                                                                                                                                                                                                                                     77\n",
       "['Marketing']                                                                                                                                                                                                                                                                           85\n",
       "['Apparel & Jewelry']                                                                                                                                                                                                                                                                  187\n",
       "Unknown                                                                                                                                                                                                                                                                               3499\n",
       "Name: industry_categories, Length: 1170, dtype: int64"
      ]
     },
     "execution_count": 11,
     "metadata": {},
     "output_type": "execute_result"
    }
   ],
   "source": [
    "#object, Industries that each brand are in.\n",
    "df.industry_categories .value_counts(ascending=True)"
   ]
  },
  {
   "cell_type": "code",
   "execution_count": 12,
   "id": "491013fd-aa92-4e6c-a28d-26240b0dece0",
   "metadata": {},
   "outputs": [
    {
     "data": {
      "text/plain": [
       "27.0     1\n",
       "21.0     1\n",
       "23.0     1\n",
       "16.0     1\n",
       "1.0      1\n",
       "        ..\n",
       "70.0    45\n",
       "69.0    47\n",
       "65.0    52\n",
       "90.0    56\n",
       "85.0    57\n",
       "Name: bant_score, Length: 79, dtype: int64"
      ]
     },
     "execution_count": 12,
     "metadata": {},
     "output_type": "execute_result"
    }
   ],
   "source": [
    "#float, Leads qualification score measured based on brands' answers to the onboarding questions. The higher the better. \n",
    "df.bant_score .value_counts(ascending=True)"
   ]
  },
  {
   "cell_type": "code",
   "execution_count": 13,
   "id": "40263c8b-fdab-4bfd-ad3e-e89b47d6c794",
   "metadata": {},
   "outputs": [
    {
     "data": {
      "text/plain": [
       "250 - 999 employees         31\n",
       "1000+ employees             45\n",
       "50 - 249 employees         111\n",
       "10 - 49 employees          454\n",
       "less than 10 employees    1765\n",
       "Name: company_size, dtype: int64"
      ]
     },
     "execution_count": 13,
     "metadata": {},
     "output_type": "execute_result"
    }
   ],
   "source": [
    "#object\n",
    "df.company_size .value_counts(ascending=True)"
   ]
  },
  {
   "cell_type": "code",
   "execution_count": 14,
   "id": "1516996a-b195-4e0e-91fc-ef370f85a0a6",
   "metadata": {},
   "outputs": [
    {
     "data": {
      "text/plain": [
       "12.0       1\n",
       "3.0      135\n",
       "1.0      264\n",
       "0.0      279\n",
       "2.0      315\n",
       "4.0     4606\n",
       "Name: onboarding_stage, dtype: int64"
      ]
     },
     "execution_count": 14,
     "metadata": {},
     "output_type": "execute_result"
    }
   ],
   "source": [
    "#float, Last onboarding stage that each brand saw. 4 means that the brand finished onboarding. 0 means that the brand did not even start the onboarding. \n",
    "df.onboarding_stage.value_counts(ascending=True)"
   ]
  },
  {
   "cell_type": "code",
   "execution_count": 15,
   "id": "1eceb4aa-21be-4ee0-aa9e-b21b30fdee8d",
   "metadata": {},
   "outputs": [
    {
     "data": {
      "text/plain": [
       "239"
      ]
     },
     "execution_count": 15,
     "metadata": {},
     "output_type": "execute_result"
    }
   ],
   "source": [
    "#dropping nulls\n",
    "df['onboarding_stage'].isna().sum()"
   ]
  },
  {
   "cell_type": "code",
   "execution_count": 16,
   "id": "45e3232c-6b26-4751-8289-b65e74f3467f",
   "metadata": {},
   "outputs": [],
   "source": [
    "df['onboarding_stage'].dropna(inplace=True)"
   ]
  },
  {
   "cell_type": "code",
   "execution_count": 17,
   "id": "13591f5d-c997-4bad-95c0-06aa7d0dbce8",
   "metadata": {},
   "outputs": [
    {
     "data": {
      "text/plain": [
       "Poland                    1\n",
       "Peru                      1\n",
       "Czechia                   1\n",
       "Antigua and Barbuda       1\n",
       "Iraq                      1\n",
       "                       ... \n",
       "South Africa             16\n",
       "Canada                   79\n",
       "India                   167\n",
       "United Kingdom          208\n",
       "United States          4074\n",
       "Name: country, Length: 87, dtype: int64"
      ]
     },
     "execution_count": 17,
     "metadata": {},
     "output_type": "execute_result"
    }
   ],
   "source": [
    "#object\n",
    "df.country .value_counts(ascending=True)"
   ]
  },
  {
   "cell_type": "code",
   "execution_count": 18,
   "id": "6401d823-7f22-4ac3-a23c-367fb52aa8f7",
   "metadata": {},
   "outputs": [],
   "source": [
    "# converting to datetime type\n",
    "df['last_active'] = pd.to_datetime(df['last_active'])"
   ]
  },
  {
   "cell_type": "code",
   "execution_count": 19,
   "id": "260aa6cc-9da5-42a6-a490-d3b9e5b2c88c",
   "metadata": {},
   "outputs": [],
   "source": [
    "df['created'] = pd.to_datetime(df['created'])"
   ]
  },
  {
   "cell_type": "code",
   "execution_count": 20,
   "id": "9cb25135-dc01-443d-b176-5b89e9d29686",
   "metadata": {},
   "outputs": [],
   "source": [
    "# Creating a column to see the last time the user has been active\n",
    "df['duration'] = df['last_active'] - df['created'] "
   ]
  },
  {
   "cell_type": "code",
   "execution_count": 21,
   "id": "3238962f-b657-4f07-a84b-90234ad10826",
   "metadata": {},
   "outputs": [
    {
     "data": {
      "text/html": [
       "<div>\n",
       "<style scoped>\n",
       "    .dataframe tbody tr th:only-of-type {\n",
       "        vertical-align: middle;\n",
       "    }\n",
       "\n",
       "    .dataframe tbody tr th {\n",
       "        vertical-align: top;\n",
       "    }\n",
       "\n",
       "    .dataframe thead th {\n",
       "        text-align: right;\n",
       "    }\n",
       "</style>\n",
       "<table border=\"1\" class=\"dataframe\">\n",
       "  <thead>\n",
       "    <tr style=\"text-align: right;\">\n",
       "      <th></th>\n",
       "      <th>brand_id</th>\n",
       "      <th>created</th>\n",
       "      <th>last_active</th>\n",
       "      <th>plan_level</th>\n",
       "      <th>num_sub_user</th>\n",
       "      <th>role</th>\n",
       "      <th>industry_categories</th>\n",
       "      <th>bant_score</th>\n",
       "      <th>company_size</th>\n",
       "      <th>onboarding_stage</th>\n",
       "      <th>country</th>\n",
       "      <th>duration</th>\n",
       "    </tr>\n",
       "  </thead>\n",
       "  <tbody>\n",
       "    <tr>\n",
       "      <th>0</th>\n",
       "      <td>1</td>\n",
       "      <td>2021-08-31 19:18:40</td>\n",
       "      <td>2021-08-31 19:20:38</td>\n",
       "      <td>0</td>\n",
       "      <td>1</td>\n",
       "      <td>brand</td>\n",
       "      <td>Unknown</td>\n",
       "      <td>NaN</td>\n",
       "      <td>NaN</td>\n",
       "      <td>NaN</td>\n",
       "      <td>NaN</td>\n",
       "      <td>0 days 00:01:58</td>\n",
       "    </tr>\n",
       "    <tr>\n",
       "      <th>1</th>\n",
       "      <td>2</td>\n",
       "      <td>2020-08-28 04:38:11</td>\n",
       "      <td>2021-01-07 21:10:32</td>\n",
       "      <td>0</td>\n",
       "      <td>1</td>\n",
       "      <td>brand</td>\n",
       "      <td>Unknown</td>\n",
       "      <td>NaN</td>\n",
       "      <td>NaN</td>\n",
       "      <td>4.0</td>\n",
       "      <td>United States</td>\n",
       "      <td>132 days 16:32:21</td>\n",
       "    </tr>\n",
       "    <tr>\n",
       "      <th>2</th>\n",
       "      <td>3</td>\n",
       "      <td>2020-08-21 13:55:13</td>\n",
       "      <td>2020-10-28 12:53:31</td>\n",
       "      <td>0</td>\n",
       "      <td>1</td>\n",
       "      <td>brand</td>\n",
       "      <td>Unknown</td>\n",
       "      <td>NaN</td>\n",
       "      <td>NaN</td>\n",
       "      <td>4.0</td>\n",
       "      <td>NaN</td>\n",
       "      <td>67 days 22:58:18</td>\n",
       "    </tr>\n",
       "    <tr>\n",
       "      <th>3</th>\n",
       "      <td>4</td>\n",
       "      <td>2021-07-01 16:46:16</td>\n",
       "      <td>2021-07-01 16:46:59</td>\n",
       "      <td>0</td>\n",
       "      <td>1</td>\n",
       "      <td>founder</td>\n",
       "      <td>Unknown</td>\n",
       "      <td>NaN</td>\n",
       "      <td>NaN</td>\n",
       "      <td>2.0</td>\n",
       "      <td>United States</td>\n",
       "      <td>0 days 00:00:43</td>\n",
       "    </tr>\n",
       "    <tr>\n",
       "      <th>4</th>\n",
       "      <td>5</td>\n",
       "      <td>2019-12-02 21:57:51</td>\n",
       "      <td>2019-12-20 17:35:41</td>\n",
       "      <td>0</td>\n",
       "      <td>1</td>\n",
       "      <td>brand</td>\n",
       "      <td>Unknown</td>\n",
       "      <td>NaN</td>\n",
       "      <td>NaN</td>\n",
       "      <td>4.0</td>\n",
       "      <td>India</td>\n",
       "      <td>17 days 19:37:50</td>\n",
       "    </tr>\n",
       "  </tbody>\n",
       "</table>\n",
       "</div>"
      ],
      "text/plain": [
       "   brand_id             created         last_active  plan_level  num_sub_user  \\\n",
       "0         1 2021-08-31 19:18:40 2021-08-31 19:20:38           0             1   \n",
       "1         2 2020-08-28 04:38:11 2021-01-07 21:10:32           0             1   \n",
       "2         3 2020-08-21 13:55:13 2020-10-28 12:53:31           0             1   \n",
       "3         4 2021-07-01 16:46:16 2021-07-01 16:46:59           0             1   \n",
       "4         5 2019-12-02 21:57:51 2019-12-20 17:35:41           0             1   \n",
       "\n",
       "      role industry_categories  bant_score company_size  onboarding_stage  \\\n",
       "0    brand             Unknown         NaN          NaN               NaN   \n",
       "1    brand             Unknown         NaN          NaN               4.0   \n",
       "2    brand             Unknown         NaN          NaN               4.0   \n",
       "3  founder             Unknown         NaN          NaN               2.0   \n",
       "4    brand             Unknown         NaN          NaN               4.0   \n",
       "\n",
       "         country          duration  \n",
       "0            NaN   0 days 00:01:58  \n",
       "1  United States 132 days 16:32:21  \n",
       "2            NaN  67 days 22:58:18  \n",
       "3  United States   0 days 00:00:43  \n",
       "4          India  17 days 19:37:50  "
      ]
     },
     "execution_count": 21,
     "metadata": {},
     "output_type": "execute_result"
    }
   ],
   "source": [
    "df.head()"
   ]
  },
  {
   "cell_type": "code",
   "execution_count": 22,
   "id": "f218653e-a4cc-418f-84bf-b5889577c5bc",
   "metadata": {},
   "outputs": [
    {
     "data": {
      "text/plain": [
       "0 days 00:00:02     55\n",
       "0 days 00:00:03     36\n",
       "0 days 00:00:04     31\n",
       "0 days 00:00:40     25\n",
       "0 days 00:00:21     23\n",
       "                    ..\n",
       "4 days 21:53:01      1\n",
       "0 days 01:28:43      1\n",
       "0 days 00:15:59      1\n",
       "44 days 15:48:55     1\n",
       "6 days 17:51:36      1\n",
       "Name: duration, Length: 3208, dtype: int64"
      ]
     },
     "execution_count": 22,
     "metadata": {},
     "output_type": "execute_result"
    }
   ],
   "source": [
    "df.duration.value_counts(ascending=False)"
   ]
  },
  {
   "cell_type": "markdown",
   "id": "f41d0810-dcac-4acf-916a-c174b37ca95f",
   "metadata": {},
   "source": [
    "## Dealing with null values"
   ]
  },
  {
   "cell_type": "code",
   "execution_count": 23,
   "id": "51ab9380-63b0-4d3e-bb57-af4e75a982ab",
   "metadata": {},
   "outputs": [
    {
     "data": {
      "text/plain": [
       "brand_id                  0\n",
       "created                   0\n",
       "last_active               8\n",
       "plan_level                0\n",
       "num_sub_user              0\n",
       "role                      6\n",
       "industry_categories      23\n",
       "bant_score             4544\n",
       "company_size           3433\n",
       "onboarding_stage        239\n",
       "country                1004\n",
       "duration                  8\n",
       "dtype: int64"
      ]
     },
     "execution_count": 23,
     "metadata": {},
     "output_type": "execute_result"
    }
   ],
   "source": [
    "#Rplacing Null values\n",
    "df.isna().sum()"
   ]
  },
  {
   "cell_type": "code",
   "execution_count": 24,
   "id": "2ef7a6f7-72c4-4eb9-be16-ef13bc3a1345",
   "metadata": {},
   "outputs": [],
   "source": [
    "df = df.dropna(subset=['last_active'])"
   ]
  },
  {
   "cell_type": "code",
   "execution_count": 25,
   "id": "d3aa536e-04e8-4b9d-9de1-5e0276bc5c09",
   "metadata": {},
   "outputs": [],
   "source": [
    "df = df.dropna(subset=['role'])"
   ]
  },
  {
   "cell_type": "code",
   "execution_count": 26,
   "id": "570c4cdc-09cf-4834-b5dd-7235fbc206bd",
   "metadata": {},
   "outputs": [],
   "source": [
    "df = df.dropna(subset=['industry_categories'])"
   ]
  },
  {
   "cell_type": "code",
   "execution_count": 27,
   "id": "cde2f7aa-d9e6-45b5-af33-9f1106ad32ca",
   "metadata": {},
   "outputs": [],
   "source": [
    "df = df.dropna(subset=['onboarding_stage'])"
   ]
  },
  {
   "cell_type": "code",
   "execution_count": 28,
   "id": "570263b7-df9a-4a4b-8a05-5966d50c72bb",
   "metadata": {},
   "outputs": [
    {
     "name": "stdout",
     "output_type": "stream",
     "text": [
      "Median: 69.0\n",
      "Mean: 67.76043276661515\n",
      "Mode: 0    85.0\n",
      "Name: bant_score, dtype: float64\n"
     ]
    }
   ],
   "source": [
    "# bant_score value replace?\n",
    "print('Median:',df.bant_score.median())\n",
    "print('Mean:',df.bant_score.mean())\n",
    "print('Mode:',df.bant_score.mode())"
   ]
  },
  {
   "cell_type": "code",
   "execution_count": 29,
   "id": "09e6f17e-9bcb-4b4f-894c-ea7e2651a9bb",
   "metadata": {},
   "outputs": [],
   "source": [
    "df['bant_score'] = df['bant_score'].replace({ np.nan : 85})"
   ]
  },
  {
   "cell_type": "code",
   "execution_count": 30,
   "id": "3ce3e49c-9906-4348-9901-f5698922d339",
   "metadata": {},
   "outputs": [
    {
     "name": "stdout",
     "output_type": "stream",
     "text": [
      "Median: 85.0\n",
      "Mean: 80.99712901489323\n",
      "Mode: 0    85.0\n",
      "Name: bant_score, dtype: float64\n"
     ]
    }
   ],
   "source": [
    "# bant_score value change\n",
    "print('Median:',df.bant_score.median())\n",
    "print('Mean:',df.bant_score.mean())\n",
    "print('Mode:',df.bant_score.mode())"
   ]
  },
  {
   "cell_type": "code",
   "execution_count": 31,
   "id": "0d41d17a-86a4-442e-8fe7-dc91e94ae49a",
   "metadata": {},
   "outputs": [
    {
     "data": {
      "text/plain": [
       "less than 10 employees    0.733472\n",
       "10 - 49 employees         0.188773\n",
       "50 - 249 employees        0.046154\n",
       "1000+ employees           0.018711\n",
       "250 - 999 employees       0.012890\n",
       "Name: company_size, dtype: float64"
      ]
     },
     "execution_count": 31,
     "metadata": {},
     "output_type": "execute_result"
    }
   ],
   "source": [
    "# company_size value replace?\n",
    "df.company_size.value_counts(normalize=True)\n"
   ]
  },
  {
   "cell_type": "code",
   "execution_count": 32,
   "id": "b4e6b8ee-af66-459a-9440-cdbc489bb990",
   "metadata": {},
   "outputs": [],
   "source": [
    "df['company_size'] = df['company_size'].replace({ np.nan : 'less than 10 employees'})"
   ]
  },
  {
   "cell_type": "code",
   "execution_count": 33,
   "id": "3fb6cc61-bf58-4a86-b19f-5236b27299d6",
   "metadata": {},
   "outputs": [
    {
     "data": {
      "text/plain": [
       "less than 10 employees    0.884981\n",
       "10 - 49 employees         0.081464\n",
       "50 - 249 employees        0.019917\n",
       "1000+ employees           0.008075\n",
       "250 - 999 employees       0.005563\n",
       "Name: company_size, dtype: float64"
      ]
     },
     "execution_count": 33,
     "metadata": {},
     "output_type": "execute_result"
    }
   ],
   "source": [
    "# company_size value replace?\n",
    "df.company_size.value_counts(normalize=True)\n"
   ]
  },
  {
   "cell_type": "code",
   "execution_count": 34,
   "id": "19a69a26-b6b5-4f49-8889-08a9ee822a60",
   "metadata": {},
   "outputs": [
    {
     "data": {
      "text/plain": [
       "United States          0.844075\n",
       "United Kingdom         0.043243\n",
       "India                  0.034096\n",
       "Canada                 0.016216\n",
       "South Africa           0.003119\n",
       "                         ...   \n",
       "Tunisia                0.000208\n",
       "Croatia                0.000208\n",
       "Iraq                   0.000208\n",
       "Antigua and Barbuda    0.000208\n",
       "Poland                 0.000208\n",
       "Name: country, Length: 86, dtype: float64"
      ]
     },
     "execution_count": 34,
     "metadata": {},
     "output_type": "execute_result"
    }
   ],
   "source": [
    "df.country.value_counts(normalize=True)"
   ]
  },
  {
   "cell_type": "code",
   "execution_count": 35,
   "id": "bcc003ba-6638-4f5a-8cad-e467c7081591",
   "metadata": {},
   "outputs": [],
   "source": [
    "df['country'] = df['country'].replace({np.nan : 'Unknown'})"
   ]
  },
  {
   "cell_type": "markdown",
   "id": "a7245633-51ff-4c73-aab1-646e4313fb61",
   "metadata": {},
   "source": [
    "# 4% of data has been removed"
   ]
  },
  {
   "cell_type": "code",
   "execution_count": 36,
   "id": "4938745e-cf83-4927-95da-fd79b4f78705",
   "metadata": {},
   "outputs": [
    {
     "name": "stdout",
     "output_type": "stream",
     "text": [
      "<class 'pandas.core.frame.DataFrame'>\n",
      "Int64Index: 5573 entries, 1 to 5838\n",
      "Data columns (total 12 columns):\n",
      " #   Column               Non-Null Count  Dtype          \n",
      "---  ------               --------------  -----          \n",
      " 0   brand_id             5573 non-null   int64          \n",
      " 1   created              5573 non-null   datetime64[ns] \n",
      " 2   last_active          5573 non-null   datetime64[ns] \n",
      " 3   plan_level           5573 non-null   int64          \n",
      " 4   num_sub_user         5573 non-null   int64          \n",
      " 5   role                 5573 non-null   object         \n",
      " 6   industry_categories  5573 non-null   object         \n",
      " 7   bant_score           5573 non-null   float64        \n",
      " 8   company_size         5573 non-null   object         \n",
      " 9   onboarding_stage     5573 non-null   float64        \n",
      " 10  country              5573 non-null   object         \n",
      " 11  duration             5573 non-null   timedelta64[ns]\n",
      "dtypes: datetime64[ns](2), float64(2), int64(3), object(4), timedelta64[ns](1)\n",
      "memory usage: 566.0+ KB\n"
     ]
    }
   ],
   "source": [
    "df.info()"
   ]
  },
  {
   "cell_type": "code",
   "execution_count": 37,
   "id": "1c0b4062-d622-4f5f-96b7-e169dac07eb2",
   "metadata": {},
   "outputs": [],
   "source": [
    "df.to_csv('cleaned_opensponsorship.csv')"
   ]
  }
 ],
 "metadata": {
  "kernelspec": {
   "display_name": "Python 3 (ipykernel)",
   "language": "python",
   "name": "python3"
  },
  "language_info": {
   "codemirror_mode": {
    "name": "ipython",
    "version": 3
   },
   "file_extension": ".py",
   "mimetype": "text/x-python",
   "name": "python",
   "nbconvert_exporter": "python",
   "pygments_lexer": "ipython3",
   "version": "3.9.12"
  }
 },
 "nbformat": 4,
 "nbformat_minor": 5
}
